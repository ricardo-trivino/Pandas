{
  "nbformat": 4,
  "nbformat_minor": 0,
  "metadata": {
    "colab": {
      "name": "Proyecto_Mermas.ipynb",
      "provenance": [],
      "collapsed_sections": [
        "WH3ZlP5ExJEY"
      ],
      "mount_file_id": "1O8MtPmKLISy5_IpNtuNDfz6oBHh_gKrN",
      "authorship_tag": "ABX9TyNzMlrcFzJIw9PVfSYFCFUh",
      "include_colab_link": true
    },
    "kernelspec": {
      "name": "python3",
      "display_name": "Python 3"
    },
    "language_info": {
      "name": "python"
    }
  },
  "cells": [
    {
      "cell_type": "markdown",
      "metadata": {
        "id": "view-in-github",
        "colab_type": "text"
      },
      "source": [
        "<a href=\"https://colab.research.google.com/github/ricardo-trivino/Pandas/blob/master/Proyecto_Mermas.ipynb\" target=\"_parent\"><img src=\"https://colab.research.google.com/assets/colab-badge.svg\" alt=\"Open In Colab\"/></a>"
      ]
    },
    {
      "cell_type": "code",
      "metadata": {
        "colab": {
          "base_uri": "https://localhost:8080/"
        },
        "id": "gpd-tsj1Nnxq",
        "outputId": "af6d4ad8-a687-4cb1-95d2-86bd82dd0e0c"
      },
      "source": [
        "#Cargar el drive\n",
        "from google.colab import drive\n",
        "drive.mount('/content/drive')"
      ],
      "execution_count": 1187,
      "outputs": [
        {
          "output_type": "stream",
          "name": "stdout",
          "text": [
            "Drive already mounted at /content/drive; to attempt to forcibly remount, call drive.mount(\"/content/drive\", force_remount=True).\n"
          ]
        }
      ]
    },
    {
      "cell_type": "code",
      "metadata": {
        "id": "MChL7GH2MlXR",
        "colab": {
          "base_uri": "https://localhost:8080/"
        },
        "outputId": "78bf5073-4e3f-4535-b963-a057b4d22bd2"
      },
      "source": [
        "# Importar librerías necesarias\n",
        "# Pandas\n",
        "import pandas as pd\n",
        "#Activar renderización de las tablas\n",
        "%load_ext google.colab.data_table\n",
        "#Desactivar renderización de las tablas\n",
        "#%unload_ext google.colab.data_table"
      ],
      "execution_count": 1188,
      "outputs": [
        {
          "output_type": "stream",
          "name": "stdout",
          "text": [
            "The google.colab.data_table extension is already loaded. To reload it, use:\n",
            "  %reload_ext google.colab.data_table\n"
          ]
        }
      ]
    },
    {
      "cell_type": "markdown",
      "metadata": {
        "id": "tjr0cdnJsvTg"
      },
      "source": [
        "## 1. Carga de datos"
      ]
    },
    {
      "cell_type": "code",
      "metadata": {
        "id": "HWJAuakeMxJj"
      },
      "source": [
        "# Cargar los datos\n",
        "mermas=pd.read_csv('https://raw.githubusercontent.com/ricardo-trivino/Pandas/master/Mermas_AGO.csv')\n",
        "EVA=pd.read_csv('https://raw.githubusercontent.com/ricardo-trivino/Pandas/master/Evaluaciones_Agropecuarias_Municipales_EVA.csv')\n",
        "precios=pd.read_csv('https://raw.githubusercontent.com/ricardo-trivino/Pandas/master/global-food-prices-database-wfp-1.csv')\n",
        "datos_faostat=pd.read_csv('https://raw.githubusercontent.com/ricardo-trivino/Pandas/master/FAOSTAT_data_9-18-2021.csv')"
      ],
      "execution_count": null,
      "outputs": []
    },
    {
      "cell_type": "code",
      "metadata": {
        "id": "t3aoVAnvqegO"
      },
      "source": [
        "mermas.head(3)"
      ],
      "execution_count": null,
      "outputs": []
    },
    {
      "cell_type": "code",
      "metadata": {
        "id": "uHMHiQtqqjQ5"
      },
      "source": [
        "EVA.head(3)"
      ],
      "execution_count": null,
      "outputs": []
    },
    {
      "cell_type": "code",
      "metadata": {
        "id": "614IcsI__S1d"
      },
      "source": [
        "precios.head(3)"
      ],
      "execution_count": null,
      "outputs": []
    },
    {
      "cell_type": "code",
      "metadata": {
        "id": "fbxFofA2qnRW"
      },
      "source": [
        "datos_faostat.head(3)"
      ],
      "execution_count": null,
      "outputs": []
    },
    {
      "cell_type": "markdown",
      "metadata": {
        "id": "rYtQEdxvszWi"
      },
      "source": [
        "## 2. Limpieza y selección de los datos"
      ]
    },
    {
      "cell_type": "markdown",
      "metadata": {
        "id": "MAeA6_InwqV4"
      },
      "source": [
        "### 2.1 Mermas Olimpica Zipaquirá"
      ]
    },
    {
      "cell_type": "code",
      "metadata": {
        "id": "AEUuKKbhIipq"
      },
      "source": [
        "# Considerar solo las columnas que nos interesan\n",
        "mermas = mermas[['PROVEEDOR','PRODUCTO', 'GRUPO', 'CANTIDAD(KG)', 'CONDICION']]\n",
        "mermas.head(3)"
      ],
      "execution_count": null,
      "outputs": []
    },
    {
      "cell_type": "code",
      "metadata": {
        "id": "x-KwULpeEz4w"
      },
      "source": [
        "#Llenar los valores null, sabiendo que su valor es el mismo que el último campo lleno\n",
        "mermas=mermas.fillna(method='ffill')\n",
        "mermas.head(3)"
      ],
      "execution_count": null,
      "outputs": []
    },
    {
      "cell_type": "code",
      "metadata": {
        "id": "HcRHNWpq1PUc"
      },
      "source": [
        "#Función que retorna el proveedor al que mas se le compra un producto\n",
        "def mayor():\n",
        "  mayor = 0\n",
        "  for i in df.index:\n",
        "    if(df[\"CANTIDAD(KG)\"][i]) > mayor:\n",
        "      mayor = df[\"CANTIDAD(KG)\"][i]\n",
        "    else:\n",
        "      mayor = mayor\n",
        "  return df[\"PROVEEDOR\"][mayor]\n",
        "\n",
        "# Unificar los productos para saber su cantidad total por mayor proveedor\n",
        "df = {'PROVEEDOR': 'max', 'GRUPO': 'first', 'CANTIDAD(KG)': 'sum', 'CONDICION': 'max'}\n",
        "mermas = mermas.groupby('PRODUCTO', as_index=False).aggregate(df).reindex(columns=mermas.columns)\n",
        "mermas.rename(columns={'CANTIDAD(KG)':'CANTIDAD_MERMA(KG)'}, inplace=True)\n",
        "mermas.head(45)"
      ],
      "execution_count": null,
      "outputs": []
    },
    {
      "cell_type": "code",
      "metadata": {
        "id": "YV0mBIYk5Prl"
      },
      "source": [
        "# Seleccionar las columnas candidatas\n",
        "mermas = mermas[['PRODUCTO', 'GRUPO']]\n",
        "mermas.head(3)"
      ],
      "execution_count": null,
      "outputs": []
    },
    {
      "cell_type": "code",
      "metadata": {
        "id": "CX-XkCOiLXWm"
      },
      "source": [
        "# Reemplazar los nombres de los productos por el estándar nacional\n",
        "mermas['PRODUCTO'] = mermas['PRODUCTO'].map({\n",
        "    'AGUACATE HASS': 'Aguacate',\n",
        "    'AHUYAMA ZAPAYO': 'Ahuyama',\n",
        "    'ARANDANOS': 'Arandano',\n",
        "    'CEBOLLA CABEZONA': 'Cebolla de bulbo',\n",
        "    'CEBOLLA JUNCA': 'Cebolla de rama',\n",
        "    'ESPINACA': 'Espinaca',\n",
        "    'LECHUGA': 'Lechuga',\n",
        "    'MANDARINA': 'Mandarina',\n",
        "    'MANGO TOMMY': 'Mango',\n",
        "    'MANZANA ROYAL CHILENA': 'Manzana',\n",
        "    'MANZANA VERDE': 'Manzana',\n",
        "    'MELON': 'Melon',\n",
        "    'NARANJA': 'Naranja',\n",
        "    'PAPA': 'Papa',\n",
        "    'PAPAYA COMUN': 'Papaya',\n",
        "    'PAPAYA COMUN REDONDA': 'Papaya',\n",
        "    'PATILLA BABY': 'Patilla',\n",
        "    'PEPINO COHOMBRO': 'Pepino cohombro',\n",
        "    'PIMENTON': 'Pimenton', \n",
        "    'PINA GOLDEN': 'Pina',\n",
        "    'REMOLACHA': 'Remolacha',\n",
        "    'SANDIA': 'Patilla',\n",
        "    'TOMATE DE ARBOL': 'Tomate de arbol',\n",
        "    'TOMATE RIO': 'Tomate',\n",
        "    'UVA COMUN': 'Uva'},\n",
        "na_action=None)\n",
        "mermas.head(3)"
      ],
      "execution_count": null,
      "outputs": []
    },
    {
      "cell_type": "markdown",
      "metadata": {
        "id": "wwFcDIltw3Ud"
      },
      "source": [
        "### 2.2 Evaluaciones Agropuecuarias Municipales"
      ]
    },
    {
      "cell_type": "code",
      "metadata": {
        "id": "Qhzvny6L8uwL"
      },
      "source": [
        "#Seleccionar las columnas de interés\n",
        "EVA = EVA[['DEPARTAMENTO', 'MUNICIPIO', 'GRUPO CULTIVO SEGUN ESPECIE', 'CULTIVO', 'ANO', 'PERIODO', 'PRODUCCION (T)', 'CICLO DEL CULTIVO']]\n",
        "EVA.head(3)"
      ],
      "execution_count": null,
      "outputs": []
    },
    {
      "cell_type": "code",
      "metadata": {
        "id": "38mrSPJ0BhiL"
      },
      "source": [
        "# Identificar campos null\n",
        "EVA.isna().sum()"
      ],
      "execution_count": null,
      "outputs": []
    },
    {
      "cell_type": "code",
      "metadata": {
        "id": "oPc-Gr-YCA0J"
      },
      "source": [
        "#Consultar cantidad total de filas y columnas\n",
        "EVA.shape"
      ],
      "execution_count": null,
      "outputs": []
    },
    {
      "cell_type": "code",
      "metadata": {
        "id": "_8oPoaQvCKJZ"
      },
      "source": [
        "#Eliminar campos con todos sus valores null\n",
        "EVA = EVA[EVA['MUNICIPIO'].notna()]"
      ],
      "execution_count": null,
      "outputs": []
    },
    {
      "cell_type": "code",
      "metadata": {
        "id": "A-Uw6vWkDoT-"
      },
      "source": [
        "#Consultar cantidad total de filas y columnas\n",
        "EVA.shape"
      ],
      "execution_count": null,
      "outputs": []
    },
    {
      "cell_type": "code",
      "metadata": {
        "id": "zAWWaFJUDujS"
      },
      "source": [
        "EVA.head(3)"
      ],
      "execution_count": null,
      "outputs": []
    },
    {
      "cell_type": "code",
      "metadata": {
        "id": "NU2ej24R3SDr"
      },
      "source": [
        "# Cambiar nombres a columnas\n",
        "EVA.rename(columns={'GRUPO CULTIVO SEGUN ESPECIE':'GRUPO'}, inplace=True)\n",
        "EVA.rename(columns={'CULTIVO':'PRODUCTO'}, inplace=True)\n",
        "EVA.head(3)"
      ],
      "execution_count": null,
      "outputs": []
    },
    {
      "cell_type": "code",
      "metadata": {
        "id": "7rpTA3fdJ1IE"
      },
      "source": [
        "# Normalizar el nombre de los productos que nos interesan\n",
        "EVA['PRODUCTO'] = EVA['PRODUCTO'].replace(['AGUACATE'],'Aguacate')\n",
        "EVA['PRODUCTO'] = EVA['PRODUCTO'].replace(['AHUYAMA'],'Ahuyama')\n",
        "EVA['PRODUCTO'] = EVA['PRODUCTO'].replace(['ARANDANO'],'Arandano')\n",
        "EVA['PRODUCTO'] = EVA['PRODUCTO'].replace(['CEBOLLA DE BULBO'],'Cebolla de bulbo')\n",
        "EVA['PRODUCTO'] = EVA['PRODUCTO'].replace(['CEBOLLA DE RAMA'],'Cebolla de rama')\n",
        "EVA['PRODUCTO'] = EVA['PRODUCTO'].replace(['ESPINACA'],'Espinaca')\n",
        "EVA['PRODUCTO'] = EVA['PRODUCTO'].replace(['LECHUGA'],'Lechuga')\n",
        "EVA['PRODUCTO'] = EVA['PRODUCTO'].replace(['MANDARINA'],'Mandarina')\n",
        "EVA['PRODUCTO'] = EVA['PRODUCTO'].replace(['MANGO'],'Mango')\n",
        "EVA['PRODUCTO'] = EVA['PRODUCTO'].replace(['MANZANA'],'Manzana')\n",
        "EVA['PRODUCTO'] = EVA['PRODUCTO'].replace(['MELON'],'Melon')\n",
        "EVA['PRODUCTO'] = EVA['PRODUCTO'].replace(['NARANJA'],'Naranja')\n",
        "EVA['PRODUCTO'] = EVA['PRODUCTO'].replace(['PAPA'],'Papa')\n",
        "EVA['PRODUCTO'] = EVA['PRODUCTO'].replace(['PIÑA'],'Pina')\n",
        "EVA['PRODUCTO'] = EVA['PRODUCTO'].replace(['REMOLACHA'],'Remolacha')\n",
        "EVA['PRODUCTO'] = EVA['PRODUCTO'].replace(['PATILLA'],'Patilla')\n",
        "EVA['PRODUCTO'] = EVA['PRODUCTO'].replace(['TOAMTE DE ARBOL'],'Tomate de arbol')\n",
        "EVA['PRODUCTO'] = EVA['PRODUCTO'].replace(['TOMATE'],'Tomate')\n",
        "EVA['PRODUCTO'] = EVA['PRODUCTO'].replace(['UVA'],'Uva')\n",
        "EVA['PRODUCTO'] = EVA['PRODUCTO'].replace(['UVA CAIMARONA'],'Uva')\n",
        "EVA.head(3)"
      ],
      "execution_count": null,
      "outputs": []
    },
    {
      "cell_type": "code",
      "metadata": {
        "id": "WadRdL5Cs0y2"
      },
      "source": [
        "# Filtrar filas de los productos que nos interesan unicamente\n",
        "EVA = EVA[EVA.PRODUCTO.isin([\n",
        "                             'Aguacate', 'Ahuyama', 'Arandano', 'Cebolla de bulbo', 'Cebolla de rama',\n",
        "                             'Espinaca', 'Lechuga', 'Mandarina', 'Mango', 'Manzana',\n",
        "                             'Melon', 'Naranja', 'Papa', 'Papaya', 'Patilla',\n",
        "                             'Pepino cohombro', 'Pimenton', 'Pina', 'Remolacha', 'Tomate de arbol',\n",
        "                             'Tomate', 'Uva'\n",
        "                             ])]\n",
        "EVA.head(3)"
      ],
      "execution_count": null,
      "outputs": []
    },
    {
      "cell_type": "code",
      "metadata": {
        "id": "lHKQAcQ68Tml"
      },
      "source": [
        "# Convertir las cantidades de producción de un producto a KG\n",
        "for i in EVA.index:\n",
        "  EVA[\"PRODUCCION (T)\"][i] = EVA[\"PRODUCCION (T)\"][i] * 1000\n",
        "EVA.rename(columns = {'PRODUCCION (T)':'PRODUCCION (KG)'}, inplace = True)\n",
        "EVA.head(3)"
      ],
      "execution_count": null,
      "outputs": []
    },
    {
      "cell_type": "code",
      "metadata": {
        "id": "jGz64NodWOk3"
      },
      "source": [
        "EVA.shape"
      ],
      "execution_count": null,
      "outputs": []
    },
    {
      "cell_type": "markdown",
      "metadata": {
        "id": "xkTdnwOjw--q"
      },
      "source": [
        "### 2.3 Global food prices"
      ]
    },
    {
      "cell_type": "code",
      "metadata": {
        "id": "9U7t7X8C485n"
      },
      "source": [
        "# Filtrar por colombia\n",
        "colombia=precios[precios[\"adm0_name\"]=='Colombia']\n",
        "colombia.head(3)"
      ],
      "execution_count": null,
      "outputs": []
    },
    {
      "cell_type": "code",
      "metadata": {
        "id": "zDvOKwTF4QQO"
      },
      "source": [
        "# Seleccionar las columnas de interés\n",
        "colombia = colombia[['adm1_name', 'mkt_name', 'cm_name', 'cur_name', 'mp_month', 'mp_year', 'mp_price']]\n",
        "colombia.head(3)"
      ],
      "execution_count": null,
      "outputs": []
    },
    {
      "cell_type": "code",
      "metadata": {
        "id": "_e0w2gVq71-3"
      },
      "source": [
        "# Cambiar el nombre a las columnas\n",
        "colombia.rename(columns={'adm1_name':'DEPARTAMENTO'}, inplace=True)\n",
        "colombia.rename(columns={'mkt_name':'MUNICIPIO'}, inplace=True)\n",
        "colombia.rename(columns={'cm_name':'PRODUCTO'}, inplace=True)\n",
        "colombia.rename(columns={'cur_name':'MONEDA'}, inplace=True)\n",
        "colombia.rename(columns={'mp_month':'MES'}, inplace=True)\n",
        "colombia.rename(columns={'mp_year':'ANO'}, inplace=True)\n",
        "colombia.rename(columns={'mp_price':'PRECIO'}, inplace=True)\n",
        "colombia.head(3)"
      ],
      "execution_count": null,
      "outputs": []
    },
    {
      "cell_type": "code",
      "metadata": {
        "id": "Bd4aux6qFBD9"
      },
      "source": [
        "# Normalizar el nombre de los productos que nos interesan\n",
        "colombia['PRODUCTO'] = colombia['PRODUCTO'].replace(['Avocados - Retail'],'Aguacate')\n",
        "colombia['PRODUCTO'] = colombia['PRODUCTO'].replace(['Squashes - Retail'],'Ahuyama')\n",
        "colombia['PRODUCTO'] = colombia['PRODUCTO'].replace(['Onions (red) - Wholesale'],'Cebolla de bulbo')\n",
        "colombia['PRODUCTO'] = colombia['PRODUCTO'].replace(['Onions (white) - Wholesale'],'Cebolla de rama')\n",
        "colombia['PRODUCTO'] = colombia['PRODUCTO'].replace(['Spinach - Wholesale'],'Espinaca')\n",
        "colombia['PRODUCTO'] = colombia['PRODUCTO'].replace(['Lettuce - Retail'],'Lechuga')\n",
        "colombia['PRODUCTO'] = colombia['PRODUCTO'].replace(['Mangoes - Retail'],'Mango')\n",
        "colombia['PRODUCTO'] = colombia['PRODUCTO'].replace(['Mangoes - Wholesale'],'Mango')\n",
        "colombia['PRODUCTO'] = colombia['PRODUCTO'].replace(['Apples - Retail'],'Manzana')\n",
        "colombia['PRODUCTO'] = colombia['PRODUCTO'].replace(['Apples (red) - Retail'],'Manzana')\n",
        "colombia['PRODUCTO'] = colombia['PRODUCTO'].replace(['Apples (red)- Wholesale'],'Manzana')\n",
        "colombia['PRODUCTO'] = colombia['PRODUCTO'].replace(['Oranges - Retail'],'Naranja')\n",
        "colombia['PRODUCTO'] = colombia['PRODUCTO'].replace(['Oranges (big size) - Retail'],'Naranja')\n",
        "colombia['PRODUCTO'] = colombia['PRODUCTO'].replace(['Oranges (big size) - Wholesale'],'Naranja')\n",
        "colombia['PRODUCTO'] = colombia['PRODUCTO'].replace(['Potatoes - Wholesale'],'Papa')\n",
        "colombia['PRODUCTO'] = colombia['PRODUCTO'].replace(['Potatoes (unica) - Wholesale'],'Papa')\n",
        "colombia['PRODUCTO'] = colombia['PRODUCTO'].replace(['Papaya - Wholesale'],'Papaya')\n",
        "colombia['PRODUCTO'] = colombia['PRODUCTO'].replace(['Cucumbers (greenhouse) - Wholesale'],'Pepino cohombro')\n",
        "colombia['PRODUCTO'] = colombia['PRODUCTO'].replace(['Tomatoes - Wholesale'],'Tomate')\n",
        "colombia['PRODUCTO'] = colombia['PRODUCTO'].replace(['Tomatoes (dried) - Wholesale'],'Tomate')\n",
        "colombia.head(3)"
      ],
      "execution_count": null,
      "outputs": []
    },
    {
      "cell_type": "code",
      "metadata": {
        "id": "xpRD4etYdq5D"
      },
      "source": [
        "# Filtrar filas de los productos que nos interesan unicamente\n",
        "colombia = colombia[colombia.PRODUCTO.isin([\n",
        "                                            'Aguacate', 'Ahuyama', 'Arandano', 'Cebolla de bulbo', 'Cebolla de rama',\n",
        "                                            'Espinaca', 'Lechuga', 'Mandarina', 'Mango', 'Manzana',\n",
        "                                            'Melon', 'Naranja', 'Papa', 'Papaya', 'Patilla',\n",
        "                                            'Pepino cohombro', 'Pimenton', 'Pina', 'Remolacha', 'Tomate de arbol',\n",
        "                                            'Tomate', 'Uva'\n",
        "                                            ])]\n",
        "colombia.head(3)"
      ],
      "execution_count": null,
      "outputs": []
    },
    {
      "cell_type": "code",
      "metadata": {
        "id": "QEC8BNxUCA48"
      },
      "source": [
        "# Cambiar el mes a periodo para unificar con otros dataset\n",
        "colombia.rename(columns = {'PRECIO':'PRECIOxKG'}, inplace = True)\n",
        "\n",
        "for i in colombia.index:\n",
        "  if ((int (colombia[\"MES\"][i]) > 0) and (int (colombia[\"MES\"][i]) <= 6)):\n",
        "    colombia[\"MES\"][i] = str (colombia[\"ANO\"][i]) + 'A'\n",
        "  elif (colombia[\"MES\"][i] > 6 and colombia[\"MES\"][i] <= 12):\n",
        "    colombia[\"MES\"][i] = str (colombia[\"ANO\"][i]) + 'B'\n",
        "  else:\n",
        "    colombia[\"MES\"][i] = str (colombia[\"ANO\"][i])\n",
        "colombia.rename(columns={'MES':'PERIODO'}, inplace=True)"
      ],
      "execution_count": null,
      "outputs": []
    },
    {
      "cell_type": "code",
      "metadata": {
        "id": "5ZFNK7882tIo"
      },
      "source": [
        "colombia.head(3)"
      ],
      "execution_count": null,
      "outputs": []
    },
    {
      "cell_type": "code",
      "metadata": {
        "id": "4M__gdIfImfR"
      },
      "source": [
        "# Mantener únicamente las columnas que nos interesan\n",
        "precios_colombia = colombia[['DEPARTAMENTO', 'MUNICIPIO', 'PRODUCTO', 'PERIODO', 'ANO', 'PRECIOxKG']]\n",
        "precios_colombia.head(1500)"
      ],
      "execution_count": null,
      "outputs": []
    },
    {
      "cell_type": "code",
      "metadata": {
        "id": "xJ148buuR_8Y"
      },
      "source": [
        "precios_colombia.shape"
      ],
      "execution_count": null,
      "outputs": []
    },
    {
      "cell_type": "code",
      "metadata": {
        "id": "VHnqlZAAGbgf"
      },
      "source": [
        "# Unificar usando por periodo de cada año usando group by\n",
        "precios_colombia = precios_colombia.groupby(['DEPARTAMENTO','MUNICIPIO','PRODUCTO','PERIODO','ANO']).PRECIOxKG.mean()\n",
        "precios_colombia = precios_colombia.to_frame()\n",
        "\n",
        "# Redondear a máximo dos decimales el precio\n",
        "for i in precios_colombia.index:\n",
        "  precios_colombia[\"PRECIOxKG\"][i] = round(precios_colombia[\"PRECIOxKG\"][i], 2)\n",
        "precios_colombia.shape"
      ],
      "execution_count": null,
      "outputs": []
    },
    {
      "cell_type": "code",
      "metadata": {
        "id": "kWxP7mvDWWZ2"
      },
      "source": [
        "precios_colombia.head(30)"
      ],
      "execution_count": null,
      "outputs": []
    },
    {
      "cell_type": "markdown",
      "metadata": {
        "id": "WH3ZlP5ExJEY"
      },
      "source": [
        "### 2.4 FAOSTAT"
      ]
    },
    {
      "cell_type": "code",
      "metadata": {
        "id": "MyDNkYyOd8io"
      },
      "source": [
        "datos_faostat.head(3)"
      ],
      "execution_count": null,
      "outputs": []
    },
    {
      "cell_type": "code",
      "metadata": {
        "id": "0F80_n69ejAX"
      },
      "source": [
        "# Seleccionar las columnas de interés\n",
        "datos_faostat = datos_faostat[['Elemento', 'Producto', 'A?o', 'Unidad', 'Valor']]\n",
        "datos_faostat.head(3)"
      ],
      "execution_count": null,
      "outputs": []
    },
    {
      "cell_type": "code",
      "metadata": {
        "colab": {
          "base_uri": "https://localhost:8080/",
          "height": 0
        },
        "id": "TtwPfWJ3Y55p",
        "outputId": "4a70abc1-911d-4a25-f809-2f99d528297d"
      },
      "source": [
        "# Filtrar la columna elemento por producción que son los datos que nos interesan\n",
        "produccion = datos_faostat[datos_faostat[\"Elemento\"] == 'Producci?n']\n",
        "produccion.head(3)"
      ],
      "execution_count": 1223,
      "outputs": [
        {
          "data": {
            "application/vnd.google.colaboratory.module+javascript": "\n      import \"https://ssl.gstatic.com/colaboratory/data_table/a6224c040fa35dcf/data_table.js\";\n\n      window.createDataTable({\n        data: [[{\n            'v': 0,\n            'f': \"0\",\n        },\n\"Producci?n\",\n\"Aceite, algod?n\",\n{\n            'v': 1961,\n            'f': \"1961\",\n        },\n\"toneladas\",\n{\n            'v': 20098.0,\n            'f': \"20098.0\",\n        }],\n [{\n            'v': 1,\n            'f': \"1\",\n        },\n\"Producci?n\",\n\"Aceite, algod?n\",\n{\n            'v': 1962,\n            'f': \"1962\",\n        },\n\"toneladas\",\n{\n            'v': 21816.0,\n            'f': \"21816.0\",\n        }],\n [{\n            'v': 2,\n            'f': \"2\",\n        },\n\"Producci?n\",\n\"Aceite, algod?n\",\n{\n            'v': 1963,\n            'f': \"1963\",\n        },\n\"toneladas\",\n{\n            'v': 19238.0,\n            'f': \"19238.0\",\n        }]],\n        columns: [[\"number\", \"index\"], [\"string\", \"Elemento\"], [\"string\", \"Producto\"], [\"number\", \"A?o\"], [\"string\", \"Unidad\"], [\"number\", \"Valor\"]],\n        columnOptions: [{\"width\": \"1px\", \"className\": \"index_column\"}],\n        rowsPerPage: 25,\n        helpUrl: \"https://colab.research.google.com/notebooks/data_table.ipynb\",\n        suppressOutputScrolling: true,\n        minimumWidth: undefined,\n      });\n    ",
            "text/html": [
              "<div>\n",
              "<style scoped>\n",
              "    .dataframe tbody tr th:only-of-type {\n",
              "        vertical-align: middle;\n",
              "    }\n",
              "\n",
              "    .dataframe tbody tr th {\n",
              "        vertical-align: top;\n",
              "    }\n",
              "\n",
              "    .dataframe thead th {\n",
              "        text-align: right;\n",
              "    }\n",
              "</style>\n",
              "<table border=\"1\" class=\"dataframe\">\n",
              "  <thead>\n",
              "    <tr style=\"text-align: right;\">\n",
              "      <th></th>\n",
              "      <th>Elemento</th>\n",
              "      <th>Producto</th>\n",
              "      <th>A?o</th>\n",
              "      <th>Unidad</th>\n",
              "      <th>Valor</th>\n",
              "    </tr>\n",
              "  </thead>\n",
              "  <tbody>\n",
              "    <tr>\n",
              "      <th>0</th>\n",
              "      <td>Producci?n</td>\n",
              "      <td>Aceite, algod?n</td>\n",
              "      <td>1961</td>\n",
              "      <td>toneladas</td>\n",
              "      <td>20098.0</td>\n",
              "    </tr>\n",
              "    <tr>\n",
              "      <th>1</th>\n",
              "      <td>Producci?n</td>\n",
              "      <td>Aceite, algod?n</td>\n",
              "      <td>1962</td>\n",
              "      <td>toneladas</td>\n",
              "      <td>21816.0</td>\n",
              "    </tr>\n",
              "    <tr>\n",
              "      <th>2</th>\n",
              "      <td>Producci?n</td>\n",
              "      <td>Aceite, algod?n</td>\n",
              "      <td>1963</td>\n",
              "      <td>toneladas</td>\n",
              "      <td>19238.0</td>\n",
              "    </tr>\n",
              "  </tbody>\n",
              "</table>\n",
              "</div>"
            ],
            "text/plain": [
              "     Elemento         Producto   A?o     Unidad    Valor\n",
              "0  Producci?n  Aceite, algod?n  1961  toneladas  20098.0\n",
              "1  Producci?n  Aceite, algod?n  1962  toneladas  21816.0\n",
              "2  Producci?n  Aceite, algod?n  1963  toneladas  19238.0"
            ]
          },
          "execution_count": null,
          "metadata": {},
          "output_type": "execute_result"
        }
      ]
    },
    {
      "cell_type": "code",
      "metadata": {
        "colab": {
          "base_uri": "https://localhost:8080/",
          "height": 0
        },
        "id": "TeQMTE202QTT",
        "outputId": "f554a5c7-e429-46eb-ad3a-92e60a8da407"
      },
      "source": [
        "# Normalizar el nombre de los productos que nos interesan\n",
        "produccion.loc[:, 'Producto'] = produccion.loc[:, 'Producto'].replace(['Aguacates'],'Aguacate')\n",
        "produccion.loc[:, 'Producto'] = produccion.loc[:, 'Producto'].replace(['Calabazas, zapayo, calabaza confitera'],'Ahuyama')\n",
        "produccion.loc[:, 'Producto'] = produccion.loc[:, 'Producto'].replace(['Cebollas, secas'],'Cebolla de bulbo')\n",
        "produccion.loc[:, 'Producto'] = produccion.loc[:, 'Producto'].replace(['Espinacas'],'Espinaca')\n",
        "produccion.loc[:, 'Producto'] = produccion.loc[:, 'Producto'].replace(['Tangerinas, mandarinas, clementinas, satsumas'],'Mandarina')\n",
        "produccion.loc[:, 'Producto'] = produccion.loc[:, 'Producto'].replace(['Mangos, mangostanes y guayabas'],'Mango')\n",
        "produccion.loc[:, 'Producto'] = produccion.loc[:, 'Producto'].replace(['Manzanas'],'Manzana')\n",
        "produccion.loc[:, 'Producto'] = produccion.loc[:, 'Producto'].replace(['Melones, otros (inc. cantaloupe'],'Melon')\n",
        "produccion.loc[:, 'Producto'] = produccion.loc[:, 'Producto'].replace(['Naranjas'],'Naranja')\n",
        "produccion.loc[:, 'Producto'] = produccion.loc[:, 'Producto'].replace(['Papas, patatas'],'Papa')\n",
        "produccion.loc[:, 'Producto'] = produccion.loc[:, 'Producto'].replace(['Papayas'],'Papaya')\n",
        "produccion.loc[:, 'Producto'] = produccion.loc[:, 'Producto'].replace(['Sand?as'],'Patilla')\n",
        "produccion.loc[:, 'Producto'] = produccion.loc[:, 'Producto'].replace(['Pepinos, pepinillos'],'Pepino cohombro')\n",
        "produccion.loc[:, 'Producto'] = produccion.loc[:, 'Producto'].replace(['Chiles, pimentos picantes, pimiento'],'Pimenton')\n",
        "produccion.loc[:, 'Producto'] = produccion.loc[:, 'Producto'].replace(['Pi?a tropical'],'Pina')\n",
        "produccion.loc[:, 'Producto'] = produccion.loc[:, 'Producto'].replace(['Azucar, remolacha'],'Remolacha')\n",
        "produccion.loc[:, 'Producto'] = produccion.loc[:, 'Producto'].replace(['Tomates, frescos'],'Tomate')\n",
        "produccion.loc[:, 'Producto'] = produccion.loc[:, 'Producto'].replace(['Uvas'],'Uva')\n",
        "produccion.head(3)"
      ],
      "execution_count": 1224,
      "outputs": [
        {
          "metadata": {
            "tags": null
          },
          "name": "stderr",
          "output_type": "stream",
          "text": [
            "/usr/local/lib/python3.7/dist-packages/pandas/core/indexing.py:1743: SettingWithCopyWarning: \n",
            "A value is trying to be set on a copy of a slice from a DataFrame.\n",
            "Try using .loc[row_indexer,col_indexer] = value instead\n",
            "\n",
            "See the caveats in the documentation: https://pandas.pydata.org/pandas-docs/stable/user_guide/indexing.html#returning-a-view-versus-a-copy\n",
            "  isetter(ilocs[0], value)\n"
          ]
        },
        {
          "data": {
            "application/vnd.google.colaboratory.module+javascript": "\n      import \"https://ssl.gstatic.com/colaboratory/data_table/a6224c040fa35dcf/data_table.js\";\n\n      window.createDataTable({\n        data: [[{\n            'v': 0,\n            'f': \"0\",\n        },\n\"Producci?n\",\n\"Aceite, algod?n\",\n{\n            'v': 1961,\n            'f': \"1961\",\n        },\n\"toneladas\",\n{\n            'v': 20098.0,\n            'f': \"20098.0\",\n        }],\n [{\n            'v': 1,\n            'f': \"1\",\n        },\n\"Producci?n\",\n\"Aceite, algod?n\",\n{\n            'v': 1962,\n            'f': \"1962\",\n        },\n\"toneladas\",\n{\n            'v': 21816.0,\n            'f': \"21816.0\",\n        }],\n [{\n            'v': 2,\n            'f': \"2\",\n        },\n\"Producci?n\",\n\"Aceite, algod?n\",\n{\n            'v': 1963,\n            'f': \"1963\",\n        },\n\"toneladas\",\n{\n            'v': 19238.0,\n            'f': \"19238.0\",\n        }]],\n        columns: [[\"number\", \"index\"], [\"string\", \"Elemento\"], [\"string\", \"Producto\"], [\"number\", \"A?o\"], [\"string\", \"Unidad\"], [\"number\", \"Valor\"]],\n        columnOptions: [{\"width\": \"1px\", \"className\": \"index_column\"}],\n        rowsPerPage: 25,\n        helpUrl: \"https://colab.research.google.com/notebooks/data_table.ipynb\",\n        suppressOutputScrolling: true,\n        minimumWidth: undefined,\n      });\n    ",
            "text/html": [
              "<div>\n",
              "<style scoped>\n",
              "    .dataframe tbody tr th:only-of-type {\n",
              "        vertical-align: middle;\n",
              "    }\n",
              "\n",
              "    .dataframe tbody tr th {\n",
              "        vertical-align: top;\n",
              "    }\n",
              "\n",
              "    .dataframe thead th {\n",
              "        text-align: right;\n",
              "    }\n",
              "</style>\n",
              "<table border=\"1\" class=\"dataframe\">\n",
              "  <thead>\n",
              "    <tr style=\"text-align: right;\">\n",
              "      <th></th>\n",
              "      <th>Elemento</th>\n",
              "      <th>Producto</th>\n",
              "      <th>A?o</th>\n",
              "      <th>Unidad</th>\n",
              "      <th>Valor</th>\n",
              "    </tr>\n",
              "  </thead>\n",
              "  <tbody>\n",
              "    <tr>\n",
              "      <th>0</th>\n",
              "      <td>Producci?n</td>\n",
              "      <td>Aceite, algod?n</td>\n",
              "      <td>1961</td>\n",
              "      <td>toneladas</td>\n",
              "      <td>20098.0</td>\n",
              "    </tr>\n",
              "    <tr>\n",
              "      <th>1</th>\n",
              "      <td>Producci?n</td>\n",
              "      <td>Aceite, algod?n</td>\n",
              "      <td>1962</td>\n",
              "      <td>toneladas</td>\n",
              "      <td>21816.0</td>\n",
              "    </tr>\n",
              "    <tr>\n",
              "      <th>2</th>\n",
              "      <td>Producci?n</td>\n",
              "      <td>Aceite, algod?n</td>\n",
              "      <td>1963</td>\n",
              "      <td>toneladas</td>\n",
              "      <td>19238.0</td>\n",
              "    </tr>\n",
              "  </tbody>\n",
              "</table>\n",
              "</div>"
            ],
            "text/plain": [
              "     Elemento         Producto   A?o     Unidad    Valor\n",
              "0  Producci?n  Aceite, algod?n  1961  toneladas  20098.0\n",
              "1  Producci?n  Aceite, algod?n  1962  toneladas  21816.0\n",
              "2  Producci?n  Aceite, algod?n  1963  toneladas  19238.0"
            ]
          },
          "execution_count": null,
          "metadata": {},
          "output_type": "execute_result"
        }
      ]
    },
    {
      "cell_type": "code",
      "metadata": {
        "colab": {
          "base_uri": "https://localhost:8080/",
          "height": 0
        },
        "id": "3RdWAL48DeZW",
        "outputId": "480ff349-d184-4760-bd58-5bc7049f1de9"
      },
      "source": [
        "# Filtrar filas de los productos que nos interesan unicamente\n",
        "produccion = produccion[produccion.Producto.isin([\n",
        "                                            'Aguacate', 'Ahuyama', 'Arandano', 'Cebolla de bulbo', 'Cebolla de rama',\n",
        "                                            'Espinaca', 'Lechuga', 'Mandarina', 'Mango', 'Manzana',\n",
        "                                            'Melon', 'Naranja', 'Papa', 'Papaya', 'Patilla',\n",
        "                                            'Pepino cohombro', 'Pimenton', 'Pina', 'Remolacha', 'Tomate de arbol',\n",
        "                                            'Tomate', 'Uva'\n",
        "                                            ])]\n",
        "produccion.head(3)"
      ],
      "execution_count": 1225,
      "outputs": [
        {
          "data": {
            "application/vnd.google.colaboratory.module+javascript": "\n      import \"https://ssl.gstatic.com/colaboratory/data_table/a6224c040fa35dcf/data_table.js\";\n\n      window.createDataTable({\n        data: [[{\n            'v': 948,\n            'f': \"948\",\n        },\n\"Producci?n\",\n\"Aguacate\",\n{\n            'v': 1961,\n            'f': \"1961\",\n        },\n\"toneladas\",\n{\n            'v': 12000.0,\n            'f': \"12000.0\",\n        }],\n [{\n            'v': 949,\n            'f': \"949\",\n        },\n\"Producci?n\",\n\"Aguacate\",\n{\n            'v': 1962,\n            'f': \"1962\",\n        },\n\"toneladas\",\n{\n            'v': 12200.0,\n            'f': \"12200.0\",\n        }],\n [{\n            'v': 950,\n            'f': \"950\",\n        },\n\"Producci?n\",\n\"Aguacate\",\n{\n            'v': 1963,\n            'f': \"1963\",\n        },\n\"toneladas\",\n{\n            'v': 12300.0,\n            'f': \"12300.0\",\n        }]],\n        columns: [[\"number\", \"index\"], [\"string\", \"Elemento\"], [\"string\", \"Producto\"], [\"number\", \"A?o\"], [\"string\", \"Unidad\"], [\"number\", \"Valor\"]],\n        columnOptions: [{\"width\": \"1px\", \"className\": \"index_column\"}],\n        rowsPerPage: 25,\n        helpUrl: \"https://colab.research.google.com/notebooks/data_table.ipynb\",\n        suppressOutputScrolling: true,\n        minimumWidth: undefined,\n      });\n    ",
            "text/html": [
              "<div>\n",
              "<style scoped>\n",
              "    .dataframe tbody tr th:only-of-type {\n",
              "        vertical-align: middle;\n",
              "    }\n",
              "\n",
              "    .dataframe tbody tr th {\n",
              "        vertical-align: top;\n",
              "    }\n",
              "\n",
              "    .dataframe thead th {\n",
              "        text-align: right;\n",
              "    }\n",
              "</style>\n",
              "<table border=\"1\" class=\"dataframe\">\n",
              "  <thead>\n",
              "    <tr style=\"text-align: right;\">\n",
              "      <th></th>\n",
              "      <th>Elemento</th>\n",
              "      <th>Producto</th>\n",
              "      <th>A?o</th>\n",
              "      <th>Unidad</th>\n",
              "      <th>Valor</th>\n",
              "    </tr>\n",
              "  </thead>\n",
              "  <tbody>\n",
              "    <tr>\n",
              "      <th>948</th>\n",
              "      <td>Producci?n</td>\n",
              "      <td>Aguacate</td>\n",
              "      <td>1961</td>\n",
              "      <td>toneladas</td>\n",
              "      <td>12000.0</td>\n",
              "    </tr>\n",
              "    <tr>\n",
              "      <th>949</th>\n",
              "      <td>Producci?n</td>\n",
              "      <td>Aguacate</td>\n",
              "      <td>1962</td>\n",
              "      <td>toneladas</td>\n",
              "      <td>12200.0</td>\n",
              "    </tr>\n",
              "    <tr>\n",
              "      <th>950</th>\n",
              "      <td>Producci?n</td>\n",
              "      <td>Aguacate</td>\n",
              "      <td>1963</td>\n",
              "      <td>toneladas</td>\n",
              "      <td>12300.0</td>\n",
              "    </tr>\n",
              "  </tbody>\n",
              "</table>\n",
              "</div>"
            ],
            "text/plain": [
              "       Elemento  Producto   A?o     Unidad    Valor\n",
              "948  Producci?n  Aguacate  1961  toneladas  12000.0\n",
              "949  Producci?n  Aguacate  1962  toneladas  12200.0\n",
              "950  Producci?n  Aguacate  1963  toneladas  12300.0"
            ]
          },
          "execution_count": null,
          "metadata": {},
          "output_type": "execute_result"
        }
      ]
    },
    {
      "cell_type": "code",
      "metadata": {
        "id": "V4N-jhA2fGhM",
        "colab": {
          "base_uri": "https://localhost:8080/",
          "height": 0
        },
        "outputId": "cb8728db-ed34-4fb7-bfd7-bcaf69fb8f35"
      },
      "source": [
        "# Convertir de toneladas a KG la cantidad producida\n",
        "for i in produccion.index:\n",
        "  produccion[\"Valor\"][i] = produccion[\"Valor\"][i] * 1000\n",
        "produccion.rename(columns = {'Valor':'Valor(KG)'}, inplace = True)\n",
        "produccion['Unidad'] = produccion['Unidad'].replace(['toneladas'],'KG')\n",
        "produccion.head(3)"
      ],
      "execution_count": 1226,
      "outputs": [
        {
          "metadata": {
            "tags": null
          },
          "name": "stderr",
          "output_type": "stream",
          "text": [
            "/usr/local/lib/python3.7/dist-packages/ipykernel_launcher.py:3: SettingWithCopyWarning: \n",
            "A value is trying to be set on a copy of a slice from a DataFrame\n",
            "\n",
            "See the caveats in the documentation: https://pandas.pydata.org/pandas-docs/stable/user_guide/indexing.html#returning-a-view-versus-a-copy\n",
            "  This is separate from the ipykernel package so we can avoid doing imports until\n"
          ]
        },
        {
          "data": {
            "application/vnd.google.colaboratory.module+javascript": "\n      import \"https://ssl.gstatic.com/colaboratory/data_table/a6224c040fa35dcf/data_table.js\";\n\n      window.createDataTable({\n        data: [[{\n            'v': 948,\n            'f': \"948\",\n        },\n\"Producci?n\",\n\"Aguacate\",\n{\n            'v': 1961,\n            'f': \"1961\",\n        },\n\"KG\",\n{\n            'v': 12000000.0,\n            'f': \"12000000.0\",\n        }],\n [{\n            'v': 949,\n            'f': \"949\",\n        },\n\"Producci?n\",\n\"Aguacate\",\n{\n            'v': 1962,\n            'f': \"1962\",\n        },\n\"KG\",\n{\n            'v': 12200000.0,\n            'f': \"12200000.0\",\n        }],\n [{\n            'v': 950,\n            'f': \"950\",\n        },\n\"Producci?n\",\n\"Aguacate\",\n{\n            'v': 1963,\n            'f': \"1963\",\n        },\n\"KG\",\n{\n            'v': 12300000.0,\n            'f': \"12300000.0\",\n        }]],\n        columns: [[\"number\", \"index\"], [\"string\", \"Elemento\"], [\"string\", \"Producto\"], [\"number\", \"A?o\"], [\"string\", \"Unidad\"], [\"number\", \"Valor(KG)\"]],\n        columnOptions: [{\"width\": \"1px\", \"className\": \"index_column\"}],\n        rowsPerPage: 25,\n        helpUrl: \"https://colab.research.google.com/notebooks/data_table.ipynb\",\n        suppressOutputScrolling: true,\n        minimumWidth: undefined,\n      });\n    ",
            "text/html": [
              "<div>\n",
              "<style scoped>\n",
              "    .dataframe tbody tr th:only-of-type {\n",
              "        vertical-align: middle;\n",
              "    }\n",
              "\n",
              "    .dataframe tbody tr th {\n",
              "        vertical-align: top;\n",
              "    }\n",
              "\n",
              "    .dataframe thead th {\n",
              "        text-align: right;\n",
              "    }\n",
              "</style>\n",
              "<table border=\"1\" class=\"dataframe\">\n",
              "  <thead>\n",
              "    <tr style=\"text-align: right;\">\n",
              "      <th></th>\n",
              "      <th>Elemento</th>\n",
              "      <th>Producto</th>\n",
              "      <th>A?o</th>\n",
              "      <th>Unidad</th>\n",
              "      <th>Valor(KG)</th>\n",
              "    </tr>\n",
              "  </thead>\n",
              "  <tbody>\n",
              "    <tr>\n",
              "      <th>948</th>\n",
              "      <td>Producci?n</td>\n",
              "      <td>Aguacate</td>\n",
              "      <td>1961</td>\n",
              "      <td>KG</td>\n",
              "      <td>12000000.0</td>\n",
              "    </tr>\n",
              "    <tr>\n",
              "      <th>949</th>\n",
              "      <td>Producci?n</td>\n",
              "      <td>Aguacate</td>\n",
              "      <td>1962</td>\n",
              "      <td>KG</td>\n",
              "      <td>12200000.0</td>\n",
              "    </tr>\n",
              "    <tr>\n",
              "      <th>950</th>\n",
              "      <td>Producci?n</td>\n",
              "      <td>Aguacate</td>\n",
              "      <td>1963</td>\n",
              "      <td>KG</td>\n",
              "      <td>12300000.0</td>\n",
              "    </tr>\n",
              "  </tbody>\n",
              "</table>\n",
              "</div>"
            ],
            "text/plain": [
              "       Elemento  Producto   A?o Unidad   Valor(KG)\n",
              "948  Producci?n  Aguacate  1961     KG  12000000.0\n",
              "949  Producci?n  Aguacate  1962     KG  12200000.0\n",
              "950  Producci?n  Aguacate  1963     KG  12300000.0"
            ]
          },
          "execution_count": null,
          "metadata": {},
          "output_type": "execute_result"
        }
      ]
    },
    {
      "cell_type": "code",
      "metadata": {
        "colab": {
          "base_uri": "https://localhost:8080/",
          "height": 0
        },
        "id": "3yO1gK3kEAg2",
        "outputId": "d86d436b-727a-46be-f975-1f897888afba"
      },
      "source": [
        "# Cambiamos el nombre de las columnas\n",
        "produccion.rename(columns = {'Elemento':'CLASIFICACION'}, inplace = True)\n",
        "produccion.rename(columns = {'Producto':'PRODUCTO'}, inplace = True)\n",
        "produccion.rename(columns = {'A?o':'ANO'}, inplace = True)\n",
        "produccion.rename(columns = {'Valor(KG)':'PRODUCCION (KG)'}, inplace = True)\n",
        "produccion.head(3)"
      ],
      "execution_count": 1227,
      "outputs": [
        {
          "data": {
            "application/vnd.google.colaboratory.module+javascript": "\n      import \"https://ssl.gstatic.com/colaboratory/data_table/a6224c040fa35dcf/data_table.js\";\n\n      window.createDataTable({\n        data: [[{\n            'v': 948,\n            'f': \"948\",\n        },\n\"Producci?n\",\n\"Aguacate\",\n{\n            'v': 1961,\n            'f': \"1961\",\n        },\n\"KG\",\n{\n            'v': 12000000.0,\n            'f': \"12000000.0\",\n        }],\n [{\n            'v': 949,\n            'f': \"949\",\n        },\n\"Producci?n\",\n\"Aguacate\",\n{\n            'v': 1962,\n            'f': \"1962\",\n        },\n\"KG\",\n{\n            'v': 12200000.0,\n            'f': \"12200000.0\",\n        }],\n [{\n            'v': 950,\n            'f': \"950\",\n        },\n\"Producci?n\",\n\"Aguacate\",\n{\n            'v': 1963,\n            'f': \"1963\",\n        },\n\"KG\",\n{\n            'v': 12300000.0,\n            'f': \"12300000.0\",\n        }]],\n        columns: [[\"number\", \"index\"], [\"string\", \"CLASIFICACION\"], [\"string\", \"PRODUCTO\"], [\"number\", \"ANO\"], [\"string\", \"Unidad\"], [\"number\", \"PRODUCCION (KG)\"]],\n        columnOptions: [{\"width\": \"1px\", \"className\": \"index_column\"}],\n        rowsPerPage: 25,\n        helpUrl: \"https://colab.research.google.com/notebooks/data_table.ipynb\",\n        suppressOutputScrolling: true,\n        minimumWidth: undefined,\n      });\n    ",
            "text/html": [
              "<div>\n",
              "<style scoped>\n",
              "    .dataframe tbody tr th:only-of-type {\n",
              "        vertical-align: middle;\n",
              "    }\n",
              "\n",
              "    .dataframe tbody tr th {\n",
              "        vertical-align: top;\n",
              "    }\n",
              "\n",
              "    .dataframe thead th {\n",
              "        text-align: right;\n",
              "    }\n",
              "</style>\n",
              "<table border=\"1\" class=\"dataframe\">\n",
              "  <thead>\n",
              "    <tr style=\"text-align: right;\">\n",
              "      <th></th>\n",
              "      <th>CLASIFICACION</th>\n",
              "      <th>PRODUCTO</th>\n",
              "      <th>ANO</th>\n",
              "      <th>Unidad</th>\n",
              "      <th>PRODUCCION (KG)</th>\n",
              "    </tr>\n",
              "  </thead>\n",
              "  <tbody>\n",
              "    <tr>\n",
              "      <th>948</th>\n",
              "      <td>Producci?n</td>\n",
              "      <td>Aguacate</td>\n",
              "      <td>1961</td>\n",
              "      <td>KG</td>\n",
              "      <td>12000000.0</td>\n",
              "    </tr>\n",
              "    <tr>\n",
              "      <th>949</th>\n",
              "      <td>Producci?n</td>\n",
              "      <td>Aguacate</td>\n",
              "      <td>1962</td>\n",
              "      <td>KG</td>\n",
              "      <td>12200000.0</td>\n",
              "    </tr>\n",
              "    <tr>\n",
              "      <th>950</th>\n",
              "      <td>Producci?n</td>\n",
              "      <td>Aguacate</td>\n",
              "      <td>1963</td>\n",
              "      <td>KG</td>\n",
              "      <td>12300000.0</td>\n",
              "    </tr>\n",
              "  </tbody>\n",
              "</table>\n",
              "</div>"
            ],
            "text/plain": [
              "    CLASIFICACION  PRODUCTO   ANO Unidad  PRODUCCION (KG)\n",
              "948    Producci?n  Aguacate  1961     KG       12000000.0\n",
              "949    Producci?n  Aguacate  1962     KG       12200000.0\n",
              "950    Producci?n  Aguacate  1963     KG       12300000.0"
            ]
          },
          "execution_count": null,
          "metadata": {},
          "output_type": "execute_result"
        }
      ]
    },
    {
      "cell_type": "code",
      "metadata": {
        "colab": {
          "base_uri": "https://localhost:8080/",
          "height": 0
        },
        "id": "fWX9gGMIE3Ow",
        "outputId": "3a98c235-b9ba-4b45-f7b3-4b3c75874a72"
      },
      "source": [
        "# Mantener únicamente las columnas que nos interesan\n",
        "datos_faostat = produccion[['PRODUCTO', 'ANO', 'PRODUCCION (KG)']]\n",
        "datos_faostat.head(3)"
      ],
      "execution_count": 1228,
      "outputs": [
        {
          "data": {
            "application/vnd.google.colaboratory.module+javascript": "\n      import \"https://ssl.gstatic.com/colaboratory/data_table/a6224c040fa35dcf/data_table.js\";\n\n      window.createDataTable({\n        data: [[{\n            'v': 948,\n            'f': \"948\",\n        },\n\"Aguacate\",\n{\n            'v': 1961,\n            'f': \"1961\",\n        },\n{\n            'v': 12000000.0,\n            'f': \"12000000.0\",\n        }],\n [{\n            'v': 949,\n            'f': \"949\",\n        },\n\"Aguacate\",\n{\n            'v': 1962,\n            'f': \"1962\",\n        },\n{\n            'v': 12200000.0,\n            'f': \"12200000.0\",\n        }],\n [{\n            'v': 950,\n            'f': \"950\",\n        },\n\"Aguacate\",\n{\n            'v': 1963,\n            'f': \"1963\",\n        },\n{\n            'v': 12300000.0,\n            'f': \"12300000.0\",\n        }]],\n        columns: [[\"number\", \"index\"], [\"string\", \"PRODUCTO\"], [\"number\", \"ANO\"], [\"number\", \"PRODUCCION (KG)\"]],\n        columnOptions: [{\"width\": \"1px\", \"className\": \"index_column\"}],\n        rowsPerPage: 25,\n        helpUrl: \"https://colab.research.google.com/notebooks/data_table.ipynb\",\n        suppressOutputScrolling: true,\n        minimumWidth: undefined,\n      });\n    ",
            "text/html": [
              "<div>\n",
              "<style scoped>\n",
              "    .dataframe tbody tr th:only-of-type {\n",
              "        vertical-align: middle;\n",
              "    }\n",
              "\n",
              "    .dataframe tbody tr th {\n",
              "        vertical-align: top;\n",
              "    }\n",
              "\n",
              "    .dataframe thead th {\n",
              "        text-align: right;\n",
              "    }\n",
              "</style>\n",
              "<table border=\"1\" class=\"dataframe\">\n",
              "  <thead>\n",
              "    <tr style=\"text-align: right;\">\n",
              "      <th></th>\n",
              "      <th>PRODUCTO</th>\n",
              "      <th>ANO</th>\n",
              "      <th>PRODUCCION (KG)</th>\n",
              "    </tr>\n",
              "  </thead>\n",
              "  <tbody>\n",
              "    <tr>\n",
              "      <th>948</th>\n",
              "      <td>Aguacate</td>\n",
              "      <td>1961</td>\n",
              "      <td>12000000.0</td>\n",
              "    </tr>\n",
              "    <tr>\n",
              "      <th>949</th>\n",
              "      <td>Aguacate</td>\n",
              "      <td>1962</td>\n",
              "      <td>12200000.0</td>\n",
              "    </tr>\n",
              "    <tr>\n",
              "      <th>950</th>\n",
              "      <td>Aguacate</td>\n",
              "      <td>1963</td>\n",
              "      <td>12300000.0</td>\n",
              "    </tr>\n",
              "  </tbody>\n",
              "</table>\n",
              "</div>"
            ],
            "text/plain": [
              "     PRODUCTO   ANO  PRODUCCION (KG)\n",
              "948  Aguacate  1961       12000000.0\n",
              "949  Aguacate  1962       12200000.0\n",
              "950  Aguacate  1963       12300000.0"
            ]
          },
          "execution_count": null,
          "metadata": {},
          "output_type": "execute_result"
        }
      ]
    },
    {
      "cell_type": "code",
      "metadata": {
        "colab": {
          "base_uri": "https://localhost:8080/"
        },
        "id": "BJB0G3z_Wbhr",
        "outputId": "160316c0-4299-4597-8718-448998140c0d"
      },
      "source": [
        "datos_faostat.shape"
      ],
      "execution_count": 1229,
      "outputs": [
        {
          "data": {
            "text/plain": [
              "(944, 3)"
            ]
          },
          "execution_count": null,
          "metadata": {},
          "output_type": "execute_result"
        }
      ]
    },
    {
      "cell_type": "markdown",
      "metadata": {
        "id": "yCm4H6INs8Bz"
      },
      "source": [
        "## 3. Integración de los datos"
      ]
    },
    {
      "cell_type": "code",
      "metadata": {
        "colab": {
          "base_uri": "https://localhost:8080/"
        },
        "id": "I58ZaM7JJZPE",
        "outputId": "e28bd4e6-359e-463f-970b-ac667029ade3"
      },
      "source": [
        "# Unir EVA y faostat\n",
        "produccion_nacional = pd.merge(datos_faostat, EVA, \n",
        "            left_on=['PRODUCTO', 'ANO'], \n",
        "            right_on=['PRODUCTO', 'ANO'], \n",
        "            how='inner', \n",
        "            suffixes=('_FAOSTAT', '_EVA'))\n",
        "produccion_nacional.shape"
      ],
      "execution_count": 1230,
      "outputs": [
        {
          "data": {
            "text/plain": [
              "(38134, 9)"
            ]
          },
          "execution_count": null,
          "metadata": {},
          "output_type": "execute_result"
        }
      ]
    },
    {
      "cell_type": "code",
      "metadata": {
        "colab": {
          "base_uri": "https://localhost:8080/",
          "height": 152
        },
        "id": "9sGXNiz7Oeb7",
        "outputId": "0314d0d0-acda-46a0-df2d-0e82b2be68c9"
      },
      "source": [
        "produccion_nacional.head(3)"
      ],
      "execution_count": 1231,
      "outputs": [
        {
          "data": {
            "application/vnd.google.colaboratory.module+javascript": "\n      import \"https://ssl.gstatic.com/colaboratory/data_table/a6224c040fa35dcf/data_table.js\";\n\n      window.createDataTable({\n        data: [[{\n            'v': 0,\n            'f': \"0\",\n        },\n\"Aguacate\",\n{\n            'v': 2007,\n            'f': \"2007\",\n        },\n{\n            'v': 193996000.0,\n            'f': \"193996000.0\",\n        },\n\"ANTIOQUIA\",\n\"RETIRO\",\n\"FRUTALES\",\n\"2007\",\n{\n            'v': 2380000.0,\n            'f': \"2380000.0\",\n        },\n\"PERMANENTE\"],\n [{\n            'v': 1,\n            'f': \"1\",\n        },\n\"Aguacate\",\n{\n            'v': 2007,\n            'f': \"2007\",\n        },\n{\n            'v': 193996000.0,\n            'f': \"193996000.0\",\n        },\n\"ANTIOQUIA\",\n\"SANTA BARBARA\",\n\"FRUTALES\",\n\"2007\",\n{\n            'v': 2250000.0,\n            'f': \"2250000.0\",\n        },\n\"PERMANENTE\"],\n [{\n            'v': 2,\n            'f': \"2\",\n        },\n\"Aguacate\",\n{\n            'v': 2007,\n            'f': \"2007\",\n        },\n{\n            'v': 193996000.0,\n            'f': \"193996000.0\",\n        },\n\"ANTIOQUIA\",\n\"LA CEJA\",\n\"FRUTALES\",\n\"2007\",\n{\n            'v': 2175000.0,\n            'f': \"2175000.0\",\n        },\n\"PERMANENTE\"]],\n        columns: [[\"number\", \"index\"], [\"string\", \"PRODUCTO\"], [\"number\", \"ANO\"], [\"number\", \"PRODUCCION (KG)_FAOSTAT\"], [\"string\", \"DEPARTAMENTO\"], [\"string\", \"MUNICIPIO\"], [\"string\", \"GRUPO\"], [\"string\", \"PERIODO\"], [\"number\", \"PRODUCCION (KG)_EVA\"], [\"string\", \"CICLO DEL CULTIVO\"]],\n        columnOptions: [{\"width\": \"1px\", \"className\": \"index_column\"}],\n        rowsPerPage: 25,\n        helpUrl: \"https://colab.research.google.com/notebooks/data_table.ipynb\",\n        suppressOutputScrolling: true,\n        minimumWidth: undefined,\n      });\n    ",
            "text/html": [
              "<div>\n",
              "<style scoped>\n",
              "    .dataframe tbody tr th:only-of-type {\n",
              "        vertical-align: middle;\n",
              "    }\n",
              "\n",
              "    .dataframe tbody tr th {\n",
              "        vertical-align: top;\n",
              "    }\n",
              "\n",
              "    .dataframe thead th {\n",
              "        text-align: right;\n",
              "    }\n",
              "</style>\n",
              "<table border=\"1\" class=\"dataframe\">\n",
              "  <thead>\n",
              "    <tr style=\"text-align: right;\">\n",
              "      <th></th>\n",
              "      <th>PRODUCTO</th>\n",
              "      <th>ANO</th>\n",
              "      <th>PRODUCCION (KG)_FAOSTAT</th>\n",
              "      <th>DEPARTAMENTO</th>\n",
              "      <th>MUNICIPIO</th>\n",
              "      <th>GRUPO</th>\n",
              "      <th>PERIODO</th>\n",
              "      <th>PRODUCCION (KG)_EVA</th>\n",
              "      <th>CICLO DEL CULTIVO</th>\n",
              "    </tr>\n",
              "  </thead>\n",
              "  <tbody>\n",
              "    <tr>\n",
              "      <th>0</th>\n",
              "      <td>Aguacate</td>\n",
              "      <td>2007</td>\n",
              "      <td>193996000.0</td>\n",
              "      <td>ANTIOQUIA</td>\n",
              "      <td>RETIRO</td>\n",
              "      <td>FRUTALES</td>\n",
              "      <td>2007</td>\n",
              "      <td>2380000.0</td>\n",
              "      <td>PERMANENTE</td>\n",
              "    </tr>\n",
              "    <tr>\n",
              "      <th>1</th>\n",
              "      <td>Aguacate</td>\n",
              "      <td>2007</td>\n",
              "      <td>193996000.0</td>\n",
              "      <td>ANTIOQUIA</td>\n",
              "      <td>SANTA BARBARA</td>\n",
              "      <td>FRUTALES</td>\n",
              "      <td>2007</td>\n",
              "      <td>2250000.0</td>\n",
              "      <td>PERMANENTE</td>\n",
              "    </tr>\n",
              "    <tr>\n",
              "      <th>2</th>\n",
              "      <td>Aguacate</td>\n",
              "      <td>2007</td>\n",
              "      <td>193996000.0</td>\n",
              "      <td>ANTIOQUIA</td>\n",
              "      <td>LA CEJA</td>\n",
              "      <td>FRUTALES</td>\n",
              "      <td>2007</td>\n",
              "      <td>2175000.0</td>\n",
              "      <td>PERMANENTE</td>\n",
              "    </tr>\n",
              "  </tbody>\n",
              "</table>\n",
              "</div>"
            ],
            "text/plain": [
              "   PRODUCTO   ANO  ...  PRODUCCION (KG)_EVA CICLO DEL CULTIVO\n",
              "0  Aguacate  2007  ...            2380000.0        PERMANENTE\n",
              "1  Aguacate  2007  ...            2250000.0        PERMANENTE\n",
              "2  Aguacate  2007  ...            2175000.0        PERMANENTE\n",
              "\n",
              "[3 rows x 9 columns]"
            ]
          },
          "execution_count": null,
          "metadata": {},
          "output_type": "execute_result"
        }
      ]
    },
    {
      "cell_type": "code",
      "metadata": {
        "colab": {
          "base_uri": "https://localhost:8080/"
        },
        "id": "1T5kRbWPZbu6",
        "outputId": "1ce4de46-f720-459d-a13e-0042fd1a9506"
      },
      "source": [
        "# Unir produccion_nacional y precios_colombia\n",
        "produccion_precios = pd.merge(produccion_nacional, precios_colombia, \n",
        "            left_on=['PRODUCTO','PERIODO'], \n",
        "            right_on=['PRODUCTO','PERIODO'], \n",
        "            how='inner', \n",
        "            suffixes=('_PRODUCCION', '_PRECIO'))\n",
        "produccion_precios.shape"
      ],
      "execution_count": 1232,
      "outputs": [
        {
          "data": {
            "text/plain": [
              "(38830, 10)"
            ]
          },
          "execution_count": null,
          "metadata": {},
          "output_type": "execute_result"
        }
      ]
    },
    {
      "cell_type": "code",
      "metadata": {
        "colab": {
          "base_uri": "https://localhost:8080/",
          "height": 152
        },
        "id": "FH0r5j1-TgKj",
        "outputId": "ffa5c7cd-753b-4985-a342-aed07d700ce7"
      },
      "source": [
        "produccion_precios.head(3)"
      ],
      "execution_count": 1233,
      "outputs": [
        {
          "data": {
            "application/vnd.google.colaboratory.module+javascript": "\n      import \"https://ssl.gstatic.com/colaboratory/data_table/a6224c040fa35dcf/data_table.js\";\n\n      window.createDataTable({\n        data: [[{\n            'v': 0,\n            'f': \"0\",\n        },\n\"Cebolla de bulbo\",\n{\n            'v': 2013,\n            'f': \"2013\",\n        },\n{\n            'v': 442654000.0,\n            'f': \"442654000.0\",\n        },\n\"ANTIOQUIA\",\n\"MEDELLIN\",\n\"HORTALIZAS\",\n\"2013A\",\n{\n            'v': 154000.0,\n            'f': \"154000.0\",\n        },\n\"TRANSITORIO\",\n{\n            'v': 816.0,\n            'f': \"816.0\",\n        }],\n [{\n            'v': 1,\n            'f': \"1\",\n        },\n\"Cebolla de bulbo\",\n{\n            'v': 2013,\n            'f': \"2013\",\n        },\n{\n            'v': 442654000.0,\n            'f': \"442654000.0\",\n        },\n\"ANTIOQUIA\",\n\"MEDELLIN\",\n\"HORTALIZAS\",\n\"2013A\",\n{\n            'v': 154000.0,\n            'f': \"154000.0\",\n        },\n\"TRANSITORIO\",\n{\n            'v': 1136.0,\n            'f': \"1136.0\",\n        }],\n [{\n            'v': 2,\n            'f': \"2\",\n        },\n\"Cebolla de bulbo\",\n{\n            'v': 2013,\n            'f': \"2013\",\n        },\n{\n            'v': 442654000.0,\n            'f': \"442654000.0\",\n        },\n\"ANTIOQUIA\",\n\"MEDELLIN\",\n\"HORTALIZAS\",\n\"2013A\",\n{\n            'v': 154000.0,\n            'f': \"154000.0\",\n        },\n\"TRANSITORIO\",\n{\n            'v': 1800.0,\n            'f': \"1800.0\",\n        }]],\n        columns: [[\"number\", \"index\"], [\"string\", \"PRODUCTO\"], [\"number\", \"ANO\"], [\"number\", \"PRODUCCION (KG)_FAOSTAT\"], [\"string\", \"DEPARTAMENTO\"], [\"string\", \"MUNICIPIO\"], [\"string\", \"GRUPO\"], [\"string\", \"PERIODO\"], [\"number\", \"PRODUCCION (KG)_EVA\"], [\"string\", \"CICLO DEL CULTIVO\"], [\"number\", \"PRECIOxKG\"]],\n        columnOptions: [{\"width\": \"1px\", \"className\": \"index_column\"}],\n        rowsPerPage: 25,\n        helpUrl: \"https://colab.research.google.com/notebooks/data_table.ipynb\",\n        suppressOutputScrolling: true,\n        minimumWidth: undefined,\n      });\n    ",
            "text/html": [
              "<div>\n",
              "<style scoped>\n",
              "    .dataframe tbody tr th:only-of-type {\n",
              "        vertical-align: middle;\n",
              "    }\n",
              "\n",
              "    .dataframe tbody tr th {\n",
              "        vertical-align: top;\n",
              "    }\n",
              "\n",
              "    .dataframe thead th {\n",
              "        text-align: right;\n",
              "    }\n",
              "</style>\n",
              "<table border=\"1\" class=\"dataframe\">\n",
              "  <thead>\n",
              "    <tr style=\"text-align: right;\">\n",
              "      <th></th>\n",
              "      <th>PRODUCTO</th>\n",
              "      <th>ANO</th>\n",
              "      <th>PRODUCCION (KG)_FAOSTAT</th>\n",
              "      <th>DEPARTAMENTO</th>\n",
              "      <th>MUNICIPIO</th>\n",
              "      <th>GRUPO</th>\n",
              "      <th>PERIODO</th>\n",
              "      <th>PRODUCCION (KG)_EVA</th>\n",
              "      <th>CICLO DEL CULTIVO</th>\n",
              "      <th>PRECIOxKG</th>\n",
              "    </tr>\n",
              "  </thead>\n",
              "  <tbody>\n",
              "    <tr>\n",
              "      <th>0</th>\n",
              "      <td>Cebolla de bulbo</td>\n",
              "      <td>2013</td>\n",
              "      <td>442654000.0</td>\n",
              "      <td>ANTIOQUIA</td>\n",
              "      <td>MEDELLIN</td>\n",
              "      <td>HORTALIZAS</td>\n",
              "      <td>2013A</td>\n",
              "      <td>154000.0</td>\n",
              "      <td>TRANSITORIO</td>\n",
              "      <td>816.0</td>\n",
              "    </tr>\n",
              "    <tr>\n",
              "      <th>1</th>\n",
              "      <td>Cebolla de bulbo</td>\n",
              "      <td>2013</td>\n",
              "      <td>442654000.0</td>\n",
              "      <td>ANTIOQUIA</td>\n",
              "      <td>MEDELLIN</td>\n",
              "      <td>HORTALIZAS</td>\n",
              "      <td>2013A</td>\n",
              "      <td>154000.0</td>\n",
              "      <td>TRANSITORIO</td>\n",
              "      <td>1136.0</td>\n",
              "    </tr>\n",
              "    <tr>\n",
              "      <th>2</th>\n",
              "      <td>Cebolla de bulbo</td>\n",
              "      <td>2013</td>\n",
              "      <td>442654000.0</td>\n",
              "      <td>ANTIOQUIA</td>\n",
              "      <td>MEDELLIN</td>\n",
              "      <td>HORTALIZAS</td>\n",
              "      <td>2013A</td>\n",
              "      <td>154000.0</td>\n",
              "      <td>TRANSITORIO</td>\n",
              "      <td>1800.0</td>\n",
              "    </tr>\n",
              "  </tbody>\n",
              "</table>\n",
              "</div>"
            ],
            "text/plain": [
              "           PRODUCTO   ANO  ...  CICLO DEL CULTIVO PRECIOxKG\n",
              "0  Cebolla de bulbo  2013  ...        TRANSITORIO     816.0\n",
              "1  Cebolla de bulbo  2013  ...        TRANSITORIO    1136.0\n",
              "2  Cebolla de bulbo  2013  ...        TRANSITORIO    1800.0\n",
              "\n",
              "[3 rows x 10 columns]"
            ]
          },
          "execution_count": null,
          "metadata": {},
          "output_type": "execute_result"
        }
      ]
    },
    {
      "cell_type": "code",
      "metadata": {
        "colab": {
          "base_uri": "https://localhost:8080/"
        },
        "id": "eFARbVBtlGX-",
        "outputId": "7a12a30b-a20e-4b1b-af87-cf5847d0cba6"
      },
      "source": [
        "# Cambiar nombre a las columnas\n",
        "produccion_precios.rename(columns={'PRODUCCION (KG)_FAOSTAT':'PRODUCCION TOTAL COLOMBIA POR AÑO EN KG'}, inplace=True)\n",
        "produccion_precios.rename(columns={'PRODUCCION (KG)_EVA':'PRODUCCION POR MUNICIPIO EN KG'}, inplace=True)\n",
        "produccion_precios.shape"
      ],
      "execution_count": 1234,
      "outputs": [
        {
          "data": {
            "text/plain": [
              "(38830, 10)"
            ]
          },
          "execution_count": null,
          "metadata": {},
          "output_type": "execute_result"
        }
      ]
    },
    {
      "cell_type": "code",
      "metadata": {
        "colab": {
          "base_uri": "https://localhost:8080/"
        },
        "id": "xN8xyuEPKUCA",
        "outputId": "605d06de-31bb-4aea-f77c-bcbf5d395891"
      },
      "source": [
        "# Unificar municipio por precio\n",
        "produccion_precios = produccion_precios.groupby(['PRODUCTO','ANO','PRODUCCION TOTAL COLOMBIA POR AÑO EN KG','DEPARTAMENTO','MUNICIPIO','GRUPO','PERIODO','PRODUCCION POR MUNICIPIO EN KG','CICLO DEL CULTIVO']).PRECIOxKG.first()\n",
        "produccion_precios = produccion_precios.to_frame()\n",
        "produccion_precios.shape"
      ],
      "execution_count": 1235,
      "outputs": [
        {
          "data": {
            "text/plain": [
              "(14284, 1)"
            ]
          },
          "execution_count": null,
          "metadata": {},
          "output_type": "execute_result"
        }
      ]
    },
    {
      "cell_type": "code",
      "metadata": {
        "colab": {
          "base_uri": "https://localhost:8080/",
          "height": 986
        },
        "id": "TZyH-cbG8GfN",
        "outputId": "6e5ac9af-4718-4fe0-b3dd-d6da22620d25"
      },
      "source": [
        "produccion_precios.head(30)"
      ],
      "execution_count": 1236,
      "outputs": [
        {
          "data": {
            "text/html": [
              "<div>\n",
              "<style scoped>\n",
              "    .dataframe tbody tr th:only-of-type {\n",
              "        vertical-align: middle;\n",
              "    }\n",
              "\n",
              "    .dataframe tbody tr th {\n",
              "        vertical-align: top;\n",
              "    }\n",
              "\n",
              "    .dataframe thead th {\n",
              "        text-align: right;\n",
              "    }\n",
              "</style>\n",
              "<table border=\"1\" class=\"dataframe\">\n",
              "  <thead>\n",
              "    <tr style=\"text-align: right;\">\n",
              "      <th></th>\n",
              "      <th></th>\n",
              "      <th></th>\n",
              "      <th></th>\n",
              "      <th></th>\n",
              "      <th></th>\n",
              "      <th></th>\n",
              "      <th></th>\n",
              "      <th></th>\n",
              "      <th>PRECIOxKG</th>\n",
              "    </tr>\n",
              "    <tr>\n",
              "      <th>PRODUCTO</th>\n",
              "      <th>ANO</th>\n",
              "      <th>PRODUCCION TOTAL COLOMBIA POR AÑO EN KG</th>\n",
              "      <th>DEPARTAMENTO</th>\n",
              "      <th>MUNICIPIO</th>\n",
              "      <th>GRUPO</th>\n",
              "      <th>PERIODO</th>\n",
              "      <th>PRODUCCION POR MUNICIPIO EN KG</th>\n",
              "      <th>CICLO DEL CULTIVO</th>\n",
              "      <th></th>\n",
              "    </tr>\n",
              "  </thead>\n",
              "  <tbody>\n",
              "    <tr>\n",
              "      <th rowspan=\"30\" valign=\"top\">Cebolla de bulbo</th>\n",
              "      <th rowspan=\"30\" valign=\"top\">2013</th>\n",
              "      <th rowspan=\"30\" valign=\"top\">442654000.0</th>\n",
              "      <th rowspan=\"2\" valign=\"top\">ANTIOQUIA</th>\n",
              "      <th rowspan=\"2\" valign=\"top\">MEDELLIN</th>\n",
              "      <th rowspan=\"2\" valign=\"top\">HORTALIZAS</th>\n",
              "      <th>2013A</th>\n",
              "      <th>154000.0</th>\n",
              "      <th>TRANSITORIO</th>\n",
              "      <td>816.00</td>\n",
              "    </tr>\n",
              "    <tr>\n",
              "      <th>2013B</th>\n",
              "      <th>126000.0</th>\n",
              "      <th>TRANSITORIO</th>\n",
              "      <td>1366.67</td>\n",
              "    </tr>\n",
              "    <tr>\n",
              "      <th rowspan=\"28\" valign=\"top\">BOYACA</th>\n",
              "      <th rowspan=\"2\" valign=\"top\">BOYACA</th>\n",
              "      <th rowspan=\"2\" valign=\"top\">HORTALIZAS</th>\n",
              "      <th>2013A</th>\n",
              "      <th>120000.0</th>\n",
              "      <th>TRANSITORIO</th>\n",
              "      <td>816.00</td>\n",
              "    </tr>\n",
              "    <tr>\n",
              "      <th>2013B</th>\n",
              "      <th>175000.0</th>\n",
              "      <th>TRANSITORIO</th>\n",
              "      <td>1366.67</td>\n",
              "    </tr>\n",
              "    <tr>\n",
              "      <th rowspan=\"2\" valign=\"top\">CHISCAS</th>\n",
              "      <th rowspan=\"2\" valign=\"top\">HORTALIZAS</th>\n",
              "      <th>2013A</th>\n",
              "      <th>200000.0</th>\n",
              "      <th>TRANSITORIO</th>\n",
              "      <td>816.00</td>\n",
              "    </tr>\n",
              "    <tr>\n",
              "      <th>2013B</th>\n",
              "      <th>40000.0</th>\n",
              "      <th>TRANSITORIO</th>\n",
              "      <td>1366.67</td>\n",
              "    </tr>\n",
              "    <tr>\n",
              "      <th rowspan=\"2\" valign=\"top\">CHITA</th>\n",
              "      <th rowspan=\"2\" valign=\"top\">HORTALIZAS</th>\n",
              "      <th>2013A</th>\n",
              "      <th>1000000.0</th>\n",
              "      <th>TRANSITORIO</th>\n",
              "      <td>816.00</td>\n",
              "    </tr>\n",
              "    <tr>\n",
              "      <th>2013B</th>\n",
              "      <th>360000.0</th>\n",
              "      <th>TRANSITORIO</th>\n",
              "      <td>1366.67</td>\n",
              "    </tr>\n",
              "    <tr>\n",
              "      <th rowspan=\"2\" valign=\"top\">CHIVATA</th>\n",
              "      <th rowspan=\"2\" valign=\"top\">HORTALIZAS</th>\n",
              "      <th>2013A</th>\n",
              "      <th>81000.0</th>\n",
              "      <th>TRANSITORIO</th>\n",
              "      <td>816.00</td>\n",
              "    </tr>\n",
              "    <tr>\n",
              "      <th>2013B</th>\n",
              "      <th>134000.0</th>\n",
              "      <th>TRANSITORIO</th>\n",
              "      <td>1366.67</td>\n",
              "    </tr>\n",
              "    <tr>\n",
              "      <th rowspan=\"2\" valign=\"top\">CORRALES</th>\n",
              "      <th rowspan=\"2\" valign=\"top\">HORTALIZAS</th>\n",
              "      <th>2013A</th>\n",
              "      <th>920000.0</th>\n",
              "      <th>TRANSITORIO</th>\n",
              "      <td>816.00</td>\n",
              "    </tr>\n",
              "    <tr>\n",
              "      <th>2013B</th>\n",
              "      <th>460000.0</th>\n",
              "      <th>TRANSITORIO</th>\n",
              "      <td>1366.67</td>\n",
              "    </tr>\n",
              "    <tr>\n",
              "      <th rowspan=\"2\" valign=\"top\">CUCAITA</th>\n",
              "      <th rowspan=\"2\" valign=\"top\">HORTALIZAS</th>\n",
              "      <th>2013A</th>\n",
              "      <th>4000000.0</th>\n",
              "      <th>TRANSITORIO</th>\n",
              "      <td>816.00</td>\n",
              "    </tr>\n",
              "    <tr>\n",
              "      <th>2013B</th>\n",
              "      <th>3000000.0</th>\n",
              "      <th>TRANSITORIO</th>\n",
              "      <td>1366.67</td>\n",
              "    </tr>\n",
              "    <tr>\n",
              "      <th rowspan=\"2\" valign=\"top\">CUITIVA</th>\n",
              "      <th rowspan=\"2\" valign=\"top\">HORTALIZAS</th>\n",
              "      <th>2013A</th>\n",
              "      <th>990000.0</th>\n",
              "      <th>TRANSITORIO</th>\n",
              "      <td>816.00</td>\n",
              "    </tr>\n",
              "    <tr>\n",
              "      <th>2013B</th>\n",
              "      <th>435000.0</th>\n",
              "      <th>TRANSITORIO</th>\n",
              "      <td>1366.67</td>\n",
              "    </tr>\n",
              "    <tr>\n",
              "      <th rowspan=\"2\" valign=\"top\">DUITAMA</th>\n",
              "      <th rowspan=\"2\" valign=\"top\">HORTALIZAS</th>\n",
              "      <th>2013A</th>\n",
              "      <th>2040000.0</th>\n",
              "      <th>TRANSITORIO</th>\n",
              "      <td>816.00</td>\n",
              "    </tr>\n",
              "    <tr>\n",
              "      <th>2013B</th>\n",
              "      <th>1050000.0</th>\n",
              "      <th>TRANSITORIO</th>\n",
              "      <td>1366.67</td>\n",
              "    </tr>\n",
              "    <tr>\n",
              "      <th rowspan=\"2\" valign=\"top\">EL COCUY</th>\n",
              "      <th rowspan=\"2\" valign=\"top\">HORTALIZAS</th>\n",
              "      <th>2013A</th>\n",
              "      <th>125000.0</th>\n",
              "      <th>TRANSITORIO</th>\n",
              "      <td>816.00</td>\n",
              "    </tr>\n",
              "    <tr>\n",
              "      <th>2013B</th>\n",
              "      <th>125000.0</th>\n",
              "      <th>TRANSITORIO</th>\n",
              "      <td>1366.67</td>\n",
              "    </tr>\n",
              "    <tr>\n",
              "      <th rowspan=\"2\" valign=\"top\">EL ESPINO</th>\n",
              "      <th rowspan=\"2\" valign=\"top\">HORTALIZAS</th>\n",
              "      <th>2013A</th>\n",
              "      <th>350000.0</th>\n",
              "      <th>TRANSITORIO</th>\n",
              "      <td>816.00</td>\n",
              "    </tr>\n",
              "    <tr>\n",
              "      <th>2013B</th>\n",
              "      <th>264000.0</th>\n",
              "      <th>TRANSITORIO</th>\n",
              "      <td>1366.67</td>\n",
              "    </tr>\n",
              "    <tr>\n",
              "      <th rowspan=\"2\" valign=\"top\">FIRAVITOBA</th>\n",
              "      <th rowspan=\"2\" valign=\"top\">HORTALIZAS</th>\n",
              "      <th>2013A</th>\n",
              "      <th>1260000.0</th>\n",
              "      <th>TRANSITORIO</th>\n",
              "      <td>816.00</td>\n",
              "    </tr>\n",
              "    <tr>\n",
              "      <th>2013B</th>\n",
              "      <th>4480000.0</th>\n",
              "      <th>TRANSITORIO</th>\n",
              "      <td>1366.67</td>\n",
              "    </tr>\n",
              "    <tr>\n",
              "      <th rowspan=\"2\" valign=\"top\">GAMEZA</th>\n",
              "      <th rowspan=\"2\" valign=\"top\">HORTALIZAS</th>\n",
              "      <th>2013A</th>\n",
              "      <th>750000.0</th>\n",
              "      <th>TRANSITORIO</th>\n",
              "      <td>816.00</td>\n",
              "    </tr>\n",
              "    <tr>\n",
              "      <th>2013B</th>\n",
              "      <th>750000.0</th>\n",
              "      <th>TRANSITORIO</th>\n",
              "      <td>1366.67</td>\n",
              "    </tr>\n",
              "    <tr>\n",
              "      <th rowspan=\"2\" valign=\"top\">GUICAN</th>\n",
              "      <th rowspan=\"2\" valign=\"top\">HORTALIZAS</th>\n",
              "      <th>2013A</th>\n",
              "      <th>98000.0</th>\n",
              "      <th>TRANSITORIO</th>\n",
              "      <td>816.00</td>\n",
              "    </tr>\n",
              "    <tr>\n",
              "      <th>2013B</th>\n",
              "      <th>84000.0</th>\n",
              "      <th>TRANSITORIO</th>\n",
              "      <td>1366.67</td>\n",
              "    </tr>\n",
              "    <tr>\n",
              "      <th rowspan=\"2\" valign=\"top\">IZA</th>\n",
              "      <th rowspan=\"2\" valign=\"top\">HORTALIZAS</th>\n",
              "      <th>2013A</th>\n",
              "      <th>400000.0</th>\n",
              "      <th>TRANSITORIO</th>\n",
              "      <td>816.00</td>\n",
              "    </tr>\n",
              "    <tr>\n",
              "      <th>2013B</th>\n",
              "      <th>350000.0</th>\n",
              "      <th>TRANSITORIO</th>\n",
              "      <td>1366.67</td>\n",
              "    </tr>\n",
              "  </tbody>\n",
              "</table>\n",
              "</div>"
            ],
            "text/plain": [
              "                                                                                                                                                           PRECIOxKG\n",
              "PRODUCTO         ANO  PRODUCCION TOTAL COLOMBIA POR AÑO EN KG DEPARTAMENTO MUNICIPIO  GRUPO      PERIODO PRODUCCION POR MUNICIPIO EN KG CICLO DEL CULTIVO           \n",
              "Cebolla de bulbo 2013 442654000.0                             ANTIOQUIA    MEDELLIN   HORTALIZAS 2013A   154000.0                       TRANSITORIO           816.00\n",
              "                                                                                                 2013B   126000.0                       TRANSITORIO          1366.67\n",
              "                                                              BOYACA       BOYACA     HORTALIZAS 2013A   120000.0                       TRANSITORIO           816.00\n",
              "                                                                                                 2013B   175000.0                       TRANSITORIO          1366.67\n",
              "                                                                           CHISCAS    HORTALIZAS 2013A   200000.0                       TRANSITORIO           816.00\n",
              "                                                                                                 2013B   40000.0                        TRANSITORIO          1366.67\n",
              "                                                                           CHITA      HORTALIZAS 2013A   1000000.0                      TRANSITORIO           816.00\n",
              "                                                                                                 2013B   360000.0                       TRANSITORIO          1366.67\n",
              "                                                                           CHIVATA    HORTALIZAS 2013A   81000.0                        TRANSITORIO           816.00\n",
              "                                                                                                 2013B   134000.0                       TRANSITORIO          1366.67\n",
              "                                                                           CORRALES   HORTALIZAS 2013A   920000.0                       TRANSITORIO           816.00\n",
              "                                                                                                 2013B   460000.0                       TRANSITORIO          1366.67\n",
              "                                                                           CUCAITA    HORTALIZAS 2013A   4000000.0                      TRANSITORIO           816.00\n",
              "                                                                                                 2013B   3000000.0                      TRANSITORIO          1366.67\n",
              "                                                                           CUITIVA    HORTALIZAS 2013A   990000.0                       TRANSITORIO           816.00\n",
              "                                                                                                 2013B   435000.0                       TRANSITORIO          1366.67\n",
              "                                                                           DUITAMA    HORTALIZAS 2013A   2040000.0                      TRANSITORIO           816.00\n",
              "                                                                                                 2013B   1050000.0                      TRANSITORIO          1366.67\n",
              "                                                                           EL COCUY   HORTALIZAS 2013A   125000.0                       TRANSITORIO           816.00\n",
              "                                                                                                 2013B   125000.0                       TRANSITORIO          1366.67\n",
              "                                                                           EL ESPINO  HORTALIZAS 2013A   350000.0                       TRANSITORIO           816.00\n",
              "                                                                                                 2013B   264000.0                       TRANSITORIO          1366.67\n",
              "                                                                           FIRAVITOBA HORTALIZAS 2013A   1260000.0                      TRANSITORIO           816.00\n",
              "                                                                                                 2013B   4480000.0                      TRANSITORIO          1366.67\n",
              "                                                                           GAMEZA     HORTALIZAS 2013A   750000.0                       TRANSITORIO           816.00\n",
              "                                                                                                 2013B   750000.0                       TRANSITORIO          1366.67\n",
              "                                                                           GUICAN     HORTALIZAS 2013A   98000.0                        TRANSITORIO           816.00\n",
              "                                                                                                 2013B   84000.0                        TRANSITORIO          1366.67\n",
              "                                                                           IZA        HORTALIZAS 2013A   400000.0                       TRANSITORIO           816.00\n",
              "                                                                                                 2013B   350000.0                       TRANSITORIO          1366.67"
            ]
          },
          "execution_count": null,
          "metadata": {},
          "output_type": "execute_result"
        }
      ]
    },
    {
      "cell_type": "markdown",
      "metadata": {
        "id": "cspCxUR-tdfh"
      },
      "source": [
        "## 4. Normalización, construcción de datos y formato"
      ]
    }
  ]
}